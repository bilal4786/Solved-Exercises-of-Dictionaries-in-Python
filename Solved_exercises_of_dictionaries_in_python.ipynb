{
 "cells": [
  {
   "cell_type": "markdown",
   "id": "db6cf345-a552-455b-b36c-ab14d1ebe2c1",
   "metadata": {},
   "source": [
    "\"Solved Exercises of dictionaries in python\""
   ]
  },
  {
   "cell_type": "code",
   "execution_count": 29,
   "id": "06ddf191-91b7-4a4b-872e-08b198c77837",
   "metadata": {},
   "outputs": [
    {
     "name": "stdout",
     "output_type": "stream",
     "text": [
      "{'Name': 'Bilal', 'Age': 19, 'City': 'Lahore', 'Hobbies': ['Coding', 'Reading', 'Traveling']}\n"
     ]
    }
   ],
   "source": [
    "#Practice Questions\n",
    "#Part a Creating a dictionary to store the information about the person\n",
    "person = {\"Name\":\"Bilal\", \"Age\":19, \"City\":\"Lahore\", \"Hobbies\":[\"Coding\", \"Reading\", \"Traveling\"]}\n",
    "print(person)"
   ]
  },
  {
   "cell_type": "code",
   "execution_count": 4,
   "id": "1636542c-5131-44b9-838a-826b5e6755cd",
   "metadata": {},
   "outputs": [
    {
     "name": "stdout",
     "output_type": "stream",
     "text": [
      "Word frequencies:\n",
      "coding: 1\n",
      "is: 2\n",
      "my: 1\n",
      "hobby: 1\n",
      "i: 1\n",
      "love: 1\n",
      "to: 2\n",
      "code: 1\n",
      "in: 1\n",
      "python: 3\n",
      "because: 1\n",
      "very: 1\n",
      "easy: 1\n",
      "learn: 1\n",
      "with: 1\n",
      "you: 1\n",
      "can: 1\n",
      "build: 1\n",
      "web: 1\n",
      "applications: 1\n",
      "data: 1\n",
      "analysis: 1\n",
      "tools: 1\n",
      "ai: 1\n",
      "systems: 1\n",
      "and: 1\n",
      "more: 1\n"
     ]
    }
   ],
   "source": [
    "#Part b Counting the frequency of the words in a given text\n",
    "from collections import Counter\n",
    "\n",
    "def calculate_word_frequency(text):\n",
    "    text = text.lower()\n",
    "    \n",
    "    for char in \".,!?;:\":\n",
    "        text = text.replace(char, \"\")\n",
    "        \n",
    "    words = text.split()\n",
    "    \n",
    "    word_counts = Counter(words)\n",
    "    \n",
    "    return word_counts\n",
    "\n",
    "# Sample text\n",
    "sample_text = \"\"\"\n",
    "Coding is my hobby. I love to code in python because python is very easy to learn.\n",
    "With Python, you can build web applications, data analysis tools, AI systems, and more.\n",
    "\"\"\"\n",
    "word_frequencies = calculate_word_frequency(sample_text)\n",
    "print(\"Word frequencies:\")\n",
    "for word, count in word_frequencies.items():\n",
    "    print(f\"{word}: {count}\")\n"
   ]
  },
  {
   "cell_type": "code",
   "execution_count": 9,
   "id": "e8b1b169-ade6-49e2-a232-2ba63eafd89e",
   "metadata": {},
   "outputs": [
    {
     "name": "stdout",
     "output_type": "stream",
     "text": [
      "\n",
      " Inventory Management Options\n",
      "1. Display Inventory\n",
      "2. Add Item\n",
      "3. Update Item Quantity\n",
      "4. Remove Item\n",
      "5. Exit\n"
     ]
    },
    {
     "name": "stdin",
     "output_type": "stream",
     "text": [
      "Choose an option (1-5):  2\n",
      "Enter the item name to add:  Pine Apple\n",
      "Enter the quantity of pine apple:  8\n"
     ]
    },
    {
     "name": "stdout",
     "output_type": "stream",
     "text": [
      "Pine apple added with 8 units.\n",
      "\n",
      "\n",
      " Inventory Management Options\n",
      "1. Display Inventory\n",
      "2. Add Item\n",
      "3. Update Item Quantity\n",
      "4. Remove Item\n",
      "5. Exit\n"
     ]
    },
    {
     "name": "stdin",
     "output_type": "stream",
     "text": [
      "Choose an option (1-5):  1\n"
     ]
    },
    {
     "name": "stdout",
     "output_type": "stream",
     "text": [
      "\n",
      "Current Inventory:\n",
      "Mango: 10 units\n",
      "Banana: 5 units\n",
      "Orange: 7 units\n",
      "Pine apple: 8 units\n",
      "\n",
      " Inventory Management Options\n",
      "1. Display Inventory\n",
      "2. Add Item\n",
      "3. Update Item Quantity\n",
      "4. Remove Item\n",
      "5. Exit\n"
     ]
    },
    {
     "name": "stdin",
     "output_type": "stream",
     "text": [
      "Choose an option (1-5):  5\n"
     ]
    },
    {
     "name": "stdout",
     "output_type": "stream",
     "text": [
      "Exiting the inventory system. Goodbye!\n"
     ]
    }
   ],
   "source": [
    "#Part c Implement a simple inventory system\n",
    "inventory = {\"Mango\":10, \"Banana\":5, \"Orange\":7}\n",
    "while True:\n",
    "    print(\"\\n Inventory Management Options\")\n",
    "    print(\"1. Display Inventory\")\n",
    "    print(\"2. Add Item\")\n",
    "    print(\"3. Update Item Quantity\")\n",
    "    print(\"4. Remove Item\")\n",
    "    print(\"5. Exit\")\n",
    "    \n",
    "    choice = input(\"Choose an option (1-5): \")\n",
    "    \n",
    "    if choice == \"1\":\n",
    "        # Display the inventory\n",
    "        print(\"\\nCurrent Inventory:\")\n",
    "        for item, quantity in inventory.items():\n",
    "            print(f\"{item.capitalize()}: {quantity} units\")\n",
    "        \n",
    "        \n",
    "    elif choice == \"2\":\n",
    "        # Add a new item or update quantity of an existing item\n",
    "        item = input(\"Enter the item name to add: \").lower()\n",
    "        quantity = int(input(f\"Enter the quantity of {item}: \"))\n",
    "        \n",
    "        if item in inventory:\n",
    "            inventory[item] += quantity\n",
    "            print(f\"{quantity} units added to existing {item}. Total: {inventory[item]} units.\\n\")\n",
    "        else:\n",
    "            inventory[item] = quantity\n",
    "            print(f\"{item.capitalize()} added with {quantity} units.\\n\")\n",
    "    \n",
    "    elif choice == \"3\":\n",
    "        # Update quantity of an existing item\n",
    "        item = input(\"Enter the item name to update: \").lower()\n",
    "        \n",
    "        if item in inventory:\n",
    "            quantity = int(input(f\"Enter the new quantity for {item}: \"))\n",
    "            inventory[item] = quantity\n",
    "            print(f\"Stock for {item} updated to {quantity} units.\\n\")\n",
    "        else:\n",
    "            print(f\"{item} does not exist in inventory.\\n\")\n",
    "    \n",
    "    elif choice == \"4\":\n",
    "        # Remove an item from inventory\n",
    "        item = input(\"Enter the item name to remove: \").lower()\n",
    "        \n",
    "        if item in inventory:\n",
    "            del inventory[item]\n",
    "            print(f\"{item.capitalize()} removed from inventory.\\n\")\n",
    "        else:\n",
    "            print(f\"{item} does not exist in inventory.\\n\")\n",
    "    \n",
    "    elif choice == \"5\":\n",
    "        # Exit the inventory system\n",
    "        print(\"Exiting the inventory system. Goodbye!\")\n",
    "        break\n",
    "    \n",
    "    else:\n",
    "        print(\"Invalid choice. Please choose a valid option.\\n\")\n"
   ]
  },
  {
   "cell_type": "code",
   "execution_count": 27,
   "id": "da758eba-c8b7-4a46-9c2f-66f55f2555fa",
   "metadata": {},
   "outputs": [
    {
     "name": "stdout",
     "output_type": "stream",
     "text": [
      "Most popular category: Manufacturing\n",
      "Number of orders: 8\n"
     ]
    }
   ],
   "source": [
    "#Part d Finding the most popular product category\n",
    "from collections import Counter\n",
    "customer_orders = {\n",
    "    \"Electronics\": 2,\n",
    "    \"Clothing\": 6,\n",
    "    \"Manufacturing\": 8\n",
    "}\n",
    "\n",
    "category_counts = Counter(customer_orders)\n",
    "\n",
    "most_frequent_category, max_count = category_counts.most_common(1)[0]\n",
    "\n",
    "print(\"Most popular category:\", most_frequent_category)\n",
    "print(\"Number of orders:\", max_count)"
   ]
  },
  {
   "cell_type": "code",
   "execution_count": 14,
   "id": "a355668b-5109-4068-b02a-03b529e0cdc1",
   "metadata": {},
   "outputs": [
    {
     "name": "stdout",
     "output_type": "stream",
     "text": [
      "Average grade: 87.75\n"
     ]
    }
   ],
   "source": [
    "#Part e Create a dictionary to store student grades and calculate the average grade\n",
    "student_grades = {}\n",
    "\n",
    "student_grades[\"Bilal\"] = 86\n",
    "student_grades[\"Wahab\"] = 92\n",
    "student_grades[\"Usman\"] = 78\n",
    "student_grades[\"Samad\"] = 95\n",
    "\n",
    "num_students = len(student_grades)\n",
    "\n",
    "total_grades = sum(student_grades.values())\n",
    "\n",
    "average_grade = total_grades / num_students\n",
    "\n",
    "print(\"Average grade:\", average_grade)"
   ]
  },
  {
   "cell_type": "code",
   "execution_count": 24,
   "id": "82bbb00f-0d9e-47ab-8a13-408a53762bff",
   "metadata": {},
   "outputs": [
    {
     "name": "stdout",
     "output_type": "stream",
     "text": [
      "\n",
      "Inventory Management System\n",
      "1. Add a new product\n",
      "2. Update product quantity\n",
      "3. Calculate total inventory value\n",
      "4. Generate low-stock report\n",
      "5. Exit\n"
     ]
    },
    {
     "name": "stdin",
     "output_type": "stream",
     "text": [
      "Enter your choice (1-5):  1\n",
      "Enter product name:  apple\n",
      "Enter quantity:  10\n",
      "Enter price:  250\n"
     ]
    },
    {
     "name": "stdout",
     "output_type": "stream",
     "text": [
      "Product 'apple' added successfully!\n",
      "\n",
      "Inventory Management System\n",
      "1. Add a new product\n",
      "2. Update product quantity\n",
      "3. Calculate total inventory value\n",
      "4. Generate low-stock report\n",
      "5. Exit\n"
     ]
    },
    {
     "name": "stdin",
     "output_type": "stream",
     "text": [
      "Enter your choice (1-5):  3\n"
     ]
    },
    {
     "name": "stdout",
     "output_type": "stream",
     "text": [
      "Total inventory value: $2500.00\n",
      "\n",
      "Inventory Management System\n",
      "1. Add a new product\n",
      "2. Update product quantity\n",
      "3. Calculate total inventory value\n",
      "4. Generate low-stock report\n",
      "5. Exit\n"
     ]
    },
    {
     "name": "stdin",
     "output_type": "stream",
     "text": [
      "Enter your choice (1-5):  4\n",
      "Enter stock threshold:  12\n"
     ]
    },
    {
     "name": "stdout",
     "output_type": "stream",
     "text": [
      "Low-stock items (quantity below threshold):\n",
      " - apple: Quantity: 10, Price: $250.00\n",
      "\n",
      "Inventory Management System\n",
      "1. Add a new product\n",
      "2. Update product quantity\n",
      "3. Calculate total inventory value\n",
      "4. Generate low-stock report\n",
      "5. Exit\n"
     ]
    },
    {
     "name": "stdin",
     "output_type": "stream",
     "text": [
      "Enter your choice (1-5):  5\n"
     ]
    },
    {
     "name": "stdout",
     "output_type": "stream",
     "text": [
      "Exiting the program. Goodbye!\n"
     ]
    }
   ],
   "source": [
    "#Part f Inventory Management System\n",
    "inventory = {}\n",
    "\n",
    "def add_product(name, quantity, price):\n",
    "    if name in inventory:\n",
    "        print(f\"Product '{name}' already exists. Use 'update_quantity' to modify its quantity.\")\n",
    "    else:\n",
    "        inventory[name] = {'quantity': quantity, 'price': price}\n",
    "        print(f\"Product '{name}' added successfully!\")\n",
    "\n",
    "def update_quantity(name, quantity):\n",
    "    if name in inventory:\n",
    "        inventory[name]['quantity'] += quantity\n",
    "        print(f\"Updated quantity for '{name}'. New quantity: {inventory[name]['quantity']}\")\n",
    "    else:\n",
    "        print(f\"Product '{name}' does not exist. Use 'add_product' to add it first.\"\n",
    "              \n",
    "def calculate_total_value():\n",
    "    total_value = sum(details['quantity'] * details['price'] for details in inventory.values())\n",
    "    print(f\"Total inventory value: ${total_value:.2f}\")\n",
    "    \n",
    "    def low_stock_report(threshold=10):\n",
    "    low_stock_items = {name: details for name, details in inventory.items() if details['quantity'] < threshold}\n",
    "    if low_stock_items:\n",
    "        print(\"Low-stock items (quantity below threshold):\")\n",
    "        for name, details in low_stock_items.items():\n",
    "            print(f\" - {name}: Quantity: {details['quantity']}, Price: ${details['price']:.2f}\")\n",
    "    else:\n",
    "        print(\"No low-stock items found.\")\n",
    "\n",
    "def menu():\n",
    "    while True:\n",
    "        print(\"\\nInventory Management System\")\n",
    "        print(\"1. Add a new product\")\n",
    "        print(\"2. Update product quantity\")\n",
    "        print(\"3. Calculate total inventory value\")\n",
    "        print(\"4. Generate low-stock report\")\n",
    "        print(\"5. Exit\")\n",
    "        choice = input(\"Enter your choice (1-5): \")\n",
    "\n",
    "        if choice == '1':\n",
    "            name = input(\"Enter product name: \")\n",
    "            quantity = int(input(\"Enter quantity: \"))\n",
    "            price = float(input(\"Enter price: \"))\n",
    "            add_product(name, quantity, price)\n",
    "        elif choice == '2':\n",
    "            name = input(\"Enter product name: \")\n",
    "            quantity = int(input(\"Enter quantity to add/subtract: \"))\n",
    "            update_quantity(name, quantity)\n",
    "        elif choice == '3':\n",
    "            calculate_total_value()\n",
    "        elif choice == '4':\n",
    "            threshold = int(input(\"Enter stock threshold: \"))\n",
    "            low_stock_report(threshold)\n",
    "        elif choice == '5':\n",
    "            print(\"Exiting the program. Goodbye!\")\n",
    "            break\n",
    "        else:\n",
    "            print(\"Invalid choice. Please try again.\")\n",
    "\n",
    "menu()\n"
   ]
  },
  {
   "cell_type": "code",
   "execution_count": 28,
   "id": "1b888239-4010-47aa-96dd-55ae045b265b",
   "metadata": {},
   "outputs": [
    {
     "name": "stdout",
     "output_type": "stream",
     "text": [
      "Ali's average grade: 85.00\n",
      "Bilal's average grade: 86.00\n",
      "Chaudhary's average grade: 85.00\n",
      "Highest Math grade: 90\n",
      "Lowest Math grade: 75\n",
      "Bilal: {'Math': 75, 'Science': 88, 'English': 95}\n",
      "Ali: {'Math': 85, 'Science': 92, 'English': 78}\n",
      "Chaudhary: {'Math': 90, 'Science': 80, 'English': 85}\n"
     ]
    }
   ],
   "source": [
    "#Part g Student Gradebook\n",
    "gradebook = {\n",
    "    \"Ali\": {\"Math\": 85, \"Science\": 92, \"English\": 78},\n",
    "    \"Bilal\": {\"Math\": 75, \"Science\": 88, \"English\": 95},\n",
    "    \"Chaudhary\": {\"Math\": 90, \"Science\": 80, \"English\": 85}\n",
    "}\n",
    "for student, grades in gradebook.items():\n",
    "    total_grades = sum(grades.values())\n",
    "    num_subjects = len(grades)\n",
    "    average_grade = total_grades / num_subjects\n",
    "    print(f\"{student}'s average grade: {average_grade:.2f}\")\n",
    "\n",
    "# Find highest and lowest grades in a specific subject\n",
    "math_grades = [grades[\"Math\"] for grades in gradebook.values()]\n",
    "highest_math = max(math_grades)\n",
    "lowest_math = min(math_grades)\n",
    "print(f\"Highest Math grade: {highest_math}\")\n",
    "print(f\"Lowest Math grade: {lowest_math}\")\n",
    "\n",
    "# Sort students by average grade\n",
    "sorted_students = sorted(gradebook.items(), key=lambda x: sum(x[1].values()) / len(x[1].values()), reverse=True)\n",
    "for student, grades in sorted_students:\n",
    "    print(f\"{student}: {grades}\")"
   ]
  },
  {
   "cell_type": "code",
   "execution_count": 34,
   "id": "a3516f65-658b-4b47-822c-585b542afd42",
   "metadata": {},
   "outputs": [
    {
     "name": "stdout",
     "output_type": "stream",
     "text": [
      "Welcome to the Simple E-commerce Store!\n",
      "Available products:\n",
      "Laptop - 800 rupees (Stock: 10)\n",
      "Phone - 500 rupees (Stock: 15)\n",
      "Headphones - 50 rupees (Stock: 30)\n",
      "Mouse - 25 rupees (Stock: 20)\n",
      "\n",
      "Menu:\n",
      "1. Add product to cart\n",
      "2. Remove product from cart\n",
      "3. View cart and total cost\n",
      "4. Checkout\n",
      "5. Exit\n"
     ]
    },
    {
     "name": "stdin",
     "output_type": "stream",
     "text": [
      "Enter your choice:  1\n",
      "Enter the product name to add to the cart:  Laptop\n",
      "Enter the quantity (Available: 10):  2\n"
     ]
    },
    {
     "name": "stdout",
     "output_type": "stream",
     "text": [
      "Added 2 of Laptop to the cart.\n",
      "\n",
      "Menu:\n",
      "1. Add product to cart\n",
      "2. Remove product from cart\n",
      "3. View cart and total cost\n",
      "4. Checkout\n",
      "5. Exit\n"
     ]
    },
    {
     "name": "stdin",
     "output_type": "stream",
     "text": [
      "Enter your choice:  3\n"
     ]
    },
    {
     "name": "stdout",
     "output_type": "stream",
     "text": [
      "\n",
      "Your cart:\n",
      "Laptop: 2 x 800 rupees = 1600 rupees\n",
      "Total cost: 1600 rupees\n",
      "\n",
      "Menu:\n",
      "1. Add product to cart\n",
      "2. Remove product from cart\n",
      "3. View cart and total cost\n",
      "4. Checkout\n",
      "5. Exit\n"
     ]
    },
    {
     "name": "stdin",
     "output_type": "stream",
     "text": [
      "Enter your choice:  4\n"
     ]
    },
    {
     "name": "stdout",
     "output_type": "stream",
     "text": [
      "Discount applied: - 160.00 rupees\n",
      "Tax applied: +256.00 rupees\n",
      "Final total after discount and tax: 1696.00 rupees\n",
      "Thank you for shopping!\n"
     ]
    }
   ],
   "source": [
    "#Part h Simple E-commerce Store\n",
    "store = {\n",
    "    \"Laptop\": {\"price\": 800, \"quantity\": 10},\n",
    "    \"Phone\": {\"price\": 500, \"quantity\": 15},\n",
    "    \"Headphones\": {\"price\": 50, \"quantity\": 30},\n",
    "    \"Mouse\": {\"price\": 25, \"quantity\": 20},\n",
    "}\n",
    "\n",
    "cart = {}\n",
    "\n",
    "print(\"Welcome to the Simple E-commerce Store!\")\n",
    "print(\"Available products:\")\n",
    "for product in store:\n",
    "    print(f\"{product} - {store[product]['price']} rupees (Stock: {store[product]['quantity']})\")\n",
    "\n",
    "while True:\n",
    "    print(\"\\nMenu:\")\n",
    "    print(\"1. Add product to cart\")\n",
    "    print(\"2. Remove product from cart\")\n",
    "    print(\"3. View cart and total cost\")\n",
    "    print(\"4. Checkout\")\n",
    "    print(\"5. Exit\")\n",
    "    \n",
    "    choice = input(\"Enter your choice: \")\n",
    "    \n",
    "    if choice == \"1\":\n",
    "        product_name = input(\"Enter the product name to add to the cart: \")\n",
    "        if product_name in store:\n",
    "            quantity = int(input(f\"Enter the quantity (Available: {store[product_name]['quantity']}): \"))\n",
    "            if quantity <= store[product_name]['quantity']:\n",
    "                if product_name in cart:\n",
    "                    cart[product_name] += quantity\n",
    "                else:\n",
    "                    cart[product_name] = quantity\n",
    "                store[product_name]['quantity'] -= quantity\n",
    "                print(f\"Added {quantity} of {product_name} to the cart.\")\n",
    "            else:\n",
    "                print(\"Not enough stock available!\")\n",
    "        else:\n",
    "            print(\"Product not found.\")\n",
    "    \n",
    "    elif choice == \"2\":\n",
    "        product_name = input(\"Enter the product name to remove from the cart: \")\n",
    "        if product_name in cart:\n",
    "            quantity = int(input(f\"Enter the quantity to remove (In cart: {cart[product_name]}): \"))\n",
    "            if quantity <= cart[product_name]:\n",
    "                cart[product_name] -= quantity\n",
    "                store[product_name]['quantity'] += quantity\n",
    "                if cart[product_name] == 0:\n",
    "                    del cart[product_name]\n",
    "                print(f\"Removed {quantity} of {product_name} from the cart.\")\n",
    "            else:\n",
    "                print(\"You cannot remove more than what's in the cart!\")\n",
    "        else:\n",
    "            print(\"Product not in cart.\")\n",
    "    \n",
    "    elif choice == \"3\":\n",
    "        if cart:\n",
    "            total_cost = 0\n",
    "            print(\"\\nYour cart:\")\n",
    "            for product in cart:\n",
    "                item_cost = cart[product] * store[product]['price']\n",
    "                total_cost += item_cost\n",
    "                print(f\"{product}: {cart[product]} x {store[product]['price']} rupees = {item_cost} rupees\")\n",
    "            print(f\"Total cost: {total_cost} rupees\")\n",
    "        else:\n",
    "            print(\"Your cart is empty.\")\n",
    "    \n",
    "    elif choice == \"4\":\n",
    "        if cart:\n",
    "            total_cost = 0\n",
    "            for product in cart:\n",
    "                total_cost += cart[product] * store[product]['price']\n",
    "            \n",
    "            discount = 0\n",
    "            if total_cost > 500:\n",
    "                discount = total_cost * 0.1  # 10% discount for purchases over 500 rupees\n",
    "                print(f\"Discount applied: - {discount:.2f} rupees\")\n",
    "            \n",
    "            tax = total_cost * 0.16  # 16% tax\n",
    "            print(f\"Tax applied: +{tax:.2f} rupees\")\n",
    "            \n",
    "            final_total = total_cost - discount + tax\n",
    "            print(f\"Final total after discount and tax: {final_total:.2f} rupees\")\n",
    "            \n",
    "            print(\"Thank you for shopping!\")\n",
    "            break\n",
    "        else:\n",
    "            print(\"Your cart is empty. Add items before checking out.\")\n",
    "    \n",
    "    elif choice == \"5\":\n",
    "        print(\"Exiting the store. Goodbye!\")\n",
    "        break\n",
    "    \n",
    "    else:\n",
    "        print(\"Invalid choice. Please try again.\")\n"
   ]
  },
  {
   "cell_type": "code",
   "execution_count": null,
   "id": "ae312dcf-4ff9-44b8-9085-527c1c2aacc9",
   "metadata": {},
   "outputs": [],
   "source": []
  }
 ],
 "metadata": {
  "kernelspec": {
   "display_name": "Python 3 (ipykernel)",
   "language": "python",
   "name": "python3"
  },
  "language_info": {
   "codemirror_mode": {
    "name": "ipython",
    "version": 3
   },
   "file_extension": ".py",
   "mimetype": "text/x-python",
   "name": "python",
   "nbconvert_exporter": "python",
   "pygments_lexer": "ipython3",
   "version": "3.13.0"
  }
 },
 "nbformat": 4,
 "nbformat_minor": 5
}
